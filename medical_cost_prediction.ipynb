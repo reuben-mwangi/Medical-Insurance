{
  "nbformat": 4,
  "nbformat_minor": 0,
  "metadata": {
    "colab": {
      "private_outputs": true,
      "provenance": [],
      "cell_execution_strategy": "setup",
      "authorship_tag": "ABX9TyOD0GIKP6wboyGAKLC5f7wP",
      "include_colab_link": true
    },
    "kernelspec": {
      "name": "python3",
      "display_name": "Python 3"
    },
    "language_info": {
      "name": "python"
    },
    "accelerator": "TPU"
  },
  "cells": [
    {
      "cell_type": "markdown",
      "metadata": {
        "id": "view-in-github",
        "colab_type": "text"
      },
      "source": [
        "<a href=\"https://colab.research.google.com/github/reuben-mwangi/Medical-Insurance/blob/main/medical_cost_prediction.ipynb\" target=\"_parent\"><img src=\"https://colab.research.google.com/assets/colab-badge.svg\" alt=\"Open In Colab\"/></a>"
      ]
    },
    {
      "cell_type": "markdown",
      "source": [
        "# Medical Cost Prediction\n",
        "\n",
        "The aim of this analysis is to predict the medical expenses based on the patients infomation. The dataset used for this analysis is insurance dataset from Kaggle. The dataset contains 1338 observations and 7 variables. The variables are as follows:\n",
        "\n",
        "**Variable**       \n",
        "Age            -  age of primary beneficiary,\n",
        "bmi            -  body mass index,\n",
        "Children       -  number of children covered by health insurance,\n",
        "Smoker         -  smoking,\n",
        "Region         - the beneficiary area in the US,\n",
        "Charges        - individual medical cost billed by health insurance."
      ],
      "metadata": {
        "id": "rX4RPKzy3sBj"
      }
    },
    {
      "cell_type": "code",
      "source": [
        "# importing the libraries\n",
        "import numpy as np\n",
        "import pandas as pd\n",
        "import matplotlib.pyplot as plt\n",
        "import seaborn as sns"
      ],
      "metadata": {
        "id": "fijxHVl831Nq"
      },
      "execution_count": null,
      "outputs": []
    },
    {
      "cell_type": "code",
      "source": [
        "df = pd.read_csv(\"/content/insurance.csv\")\n",
        "df.head()"
      ],
      "metadata": {
        "id": "uZMiAzfgEU7s"
      },
      "execution_count": null,
      "outputs": []
    },
    {
      "cell_type": "markdown",
      "source": [
        "# Data Preprocessing"
      ],
      "metadata": {
        "id": "Yi39ZBOsFjUL"
      }
    },
    {
      "cell_type": "code",
      "source": [
        "# number of rows and columns\n",
        "df.shape"
      ],
      "metadata": {
        "id": "fcNxmVoNFni_"
      },
      "execution_count": null,
      "outputs": []
    },
    {
      "cell_type": "code",
      "source": [
        "# checking for missing values\n",
        "df.info()"
      ],
      "metadata": {
        "id": "EniyaTQmFvX2"
      },
      "execution_count": null,
      "outputs": []
    },
    {
      "cell_type": "code",
      "source": [
        "# checking descriptive statistics\n",
        "df.describe()"
      ],
      "metadata": {
        "id": "2tbCPLr_FzkN"
      },
      "execution_count": null,
      "outputs": []
    },
    {
      "cell_type": "code",
      "source": [
        "# value counts for categorical variables\n",
        "print(df.sex.value_counts(),\"\\n\",df.smoker.value_counts(),\"\\n\",df.region.value_counts())"
      ],
      "metadata": {
        "id": "s6wqPEppGAza"
      },
      "execution_count": null,
      "outputs": []
    },
    {
      "cell_type": "markdown",
      "source": [
        "## Replacing the categorical variables with numerical values\n",
        "\n",
        "* Sex: 1-male, 0 - female\n",
        "* Smoker: 1-yes , 0 - no\n",
        "* Region: 0- northeast, 1 - northwest, 2 - southeast, 3- southwest\n",
        "\n"
      ],
      "metadata": {
        "id": "tKX7Cqi9HBwe"
      }
    },
    {
      "cell_type": "code",
      "source": [
        "# changing categorical variables to numerical ones\n",
        "df[\"sex\"]= df[\"sex\"].map({\"male\":1,\"female\":0})\n",
        "df[\"smoker\"]= df[\"smoker\"].map({\"yes\":1,\"no\":0})\n",
        "df[\"region\"]= df[\"region\"].map({\"southwest\":0,\"southeast\":1,\"northwest\":2,\"northeast\":3})"
      ],
      "metadata": {
        "id": "xcyE4XjTHcQC"
      },
      "execution_count": null,
      "outputs": []
    },
    {
      "cell_type": "code",
      "source": [
        "df.head(10)"
      ],
      "metadata": {
        "id": "d5NrrNBVITtU"
      },
      "execution_count": null,
      "outputs": []
    },
    {
      "cell_type": "markdown",
      "source": [
        "# Exploratory Data Analysis\n",
        "\n",
        "Visualization of the data is a good way to understand the data. In this section, I will plot the distribution of each variable to get an overview about their counts and distributions."
      ],
      "metadata": {
        "id": "FMytBaJPIfDC"
      }
    },
    {
      "cell_type": "code",
      "source": [
        "# age distribution\n",
        "sns.histplot(df.age,bins=20,kde=False,color=\"green\")\n",
        "plt.title(\"Age distribution\")\n",
        "plt.xlabel(\"Age\")\n",
        "plt.ylabel(\"Count\")\n",
        "plt.show()"
      ],
      "metadata": {
        "id": "I6ReYYXjIVkE"
      },
      "execution_count": null,
      "outputs": []
    },
    {
      "cell_type": "code",
      "source": [
        "# gender plot\n",
        "sns.countplot(x= \"sex\", data= df)\n",
        "plt.title(\"Gender Distribution\")"
      ],
      "metadata": {
        "id": "zNJpnAwZJRy2"
      },
      "execution_count": null,
      "outputs": []
    },
    {
      "cell_type": "markdown",
      "source": [
        " It is clear that the number of males and females are almost equal in the dataset."
      ],
      "metadata": {
        "id": "GgT-CAoCKR-P"
      }
    },
    {
      "cell_type": "code",
      "source": [
        "# bmi distribution\n",
        "sns.histplot(df.bmi, bins=20, kde= True, color = \"green\")\n",
        "plt.title(\"BMI Distribution\")\n",
        "plt.xlabel(\"BMI\")\n",
        "plt.ylabel(\"Count\")\n",
        "plt.show()"
      ],
      "metadata": {
        "id": "j7Y7fieVKMnF"
      },
      "execution_count": null,
      "outputs": []
    },
    {
      "cell_type": "markdown",
      "source": [
        "The majority of the patients have BMI between 25 and 40 which is consindered as overweight and could be major factor in increasing the medical cost."
      ],
      "metadata": {
        "id": "4nIZyZx6LEaL"
      }
    },
    {
      "cell_type": "code",
      "source": [
        "# Child count distribution\n",
        "sns.countplot(x = \"children\",data=df)\n",
        "plt.title(\"Children Distribution\")\n",
        "plt.xlabel(\"Children\")\n",
        "plt.ylabel(\"Count\")\n",
        "plt.show()"
      ],
      "metadata": {
        "id": "UlIHlZy7K1BK"
      },
      "execution_count": null,
      "outputs": []
    },
    {
      "cell_type": "markdown",
      "source": [
        "What we can see, most of patients have no children and very few patients have more than 3 children."
      ],
      "metadata": {
        "id": "ygyma-CBL2T7"
      }
    },
    {
      "cell_type": "code",
      "source": [
        "#Regionwise plot\n",
        "\n",
        "sns.countplot(x=\"region\",data=df)\n",
        "plt.title(\"Region Distribution\")\n",
        "plt.xlabel(\"Region\")\n",
        "plt.ylabel(\"Count\")\n",
        "plt.show()"
      ],
      "metadata": {
        "id": "9pyEfv3BLrjC"
      },
      "execution_count": null,
      "outputs": []
    },
    {
      "cell_type": "markdown",
      "source": [
        "The count of patients from northwest is slightly higher than the other regions, but the number of patients from other regions are almost equal."
      ],
      "metadata": {
        "id": "CozAJ7a1McGf"
      }
    },
    {
      "cell_type": "code",
      "source": [
        "# Count of smokers\n",
        "sns.countplot(x=\"smoker\",data=df)\n",
        "plt.title(\"Smoker Distribution\")\n",
        "plt.xlabel(\"Smokers\")\n",
        "plt.ylabel(\"Count\")\n",
        "plt.show()"
      ],
      "metadata": {
        "id": "MpLnKOTlMH9w"
      },
      "execution_count": null,
      "outputs": []
    },
    {
      "cell_type": "markdown",
      "source": [
        "Smokers are very few in the dataset. Nearly 80% of the patients are non-smokers.\n",
        "Smoker count with respect to the children count."
      ],
      "metadata": {
        "id": "R7T-xUj7ND7W"
      }
    },
    {
      "cell_type": "code",
      "source": [
        "sns.countplot(x=df.smoker,hue = df.children)"
      ],
      "metadata": {
        "id": "gU9iirspM5tY"
      },
      "execution_count": null,
      "outputs": []
    },
    {
      "cell_type": "markdown",
      "source": [
        "Evident that highest number of patients who are non smoker don't have children."
      ],
      "metadata": {
        "id": "KYoz9hpGN2-i"
      }
    },
    {
      "cell_type": "code",
      "source": [
        "# Charges distribution\n",
        "sns.histplot(df.charges,bins= 20, kde =True, color =\"red\")\n",
        "plt.title(\"Charges Distribution\")\n",
        "plt.xlabel(\"Medical Expense\")\n",
        "plt.ylabel(\"Count\")\n",
        "plt.show()"
      ],
      "metadata": {
        "id": "K1LfP0mVNdHJ"
      },
      "execution_count": null,
      "outputs": []
    },
    {
      "cell_type": "markdown",
      "source": [
        "Most of the medical expenses are below 20,000, with neglible number of patients having medical expenses above 50,000.\n",
        "From all the above plots, we have a clear understanding about the count of patients under each category of the variables. Now I wil look into the correlation between the variables."
      ],
      "metadata": {
        "id": "iI2D0LLcOjDR"
      }
    },
    {
      "cell_type": "markdown",
      "source": [
        "# Correlation"
      ],
      "metadata": {
        "id": "Hs-zqmIbPKE1"
      }
    },
    {
      "cell_type": "code",
      "source": [
        "# cor\n",
        "df.corr()"
      ],
      "metadata": {
        "id": "goKCIqOZOXUW"
      },
      "execution_count": null,
      "outputs": []
    },
    {
      "cell_type": "code",
      "source": [
        "# plot the corr map\n",
        "plt.figure(figsize=(10,10))\n",
        "sns.heatmap(df.corr(),annot=True,cmap = \"coolwarm\")\n",
        "plt.show()"
      ],
      "metadata": {
        "id": "wXRF28pVPQdM"
      },
      "execution_count": null,
      "outputs": []
    },
    {
      "cell_type": "markdown",
      "source": [
        "The variable smoker shows a significant correlation with the medical expenses. Now I will explore more into patients smoking habits and their relation with other factors."
      ],
      "metadata": {
        "id": "7HJ4w9u8PyBJ"
      }
    },
    {
      "cell_type": "markdown",
      "source": [
        "# Plotting the smoker count with patient's gender"
      ],
      "metadata": {
        "id": "5x8VfhQYz9Zh"
      }
    },
    {
      "cell_type": "code",
      "source": [
        "sns.catplot(x=\"smoker\",kind=\"count\",hue=\"sex\",data=df)\n",
        "plt.title(\"Smoker Count with gender\")\n",
        "plt.xlabel(\"Smoker\")\n",
        "plt.ylabel(\"Count\")\n",
        "plt.show()"
      ],
      "metadata": {
        "id": "-wp7VbdbPqka"
      },
      "execution_count": null,
      "outputs": []
    },
    {
      "cell_type": "markdown",
      "source": [
        "We can notice more male smokers than female smokers. So, I will assume that medical treatment expense for males would be more than females, given the impact of smoking on the medical expenses."
      ],
      "metadata": {
        "id": "B_Jo4qm3OFQF"
      }
    },
    {
      "cell_type": "code",
      "source": [
        "sns.violinplot(x=\"sex\",y=\"charges\",data=df)"
      ],
      "metadata": {
        "id": "E_8lHnh-Nt_N"
      },
      "execution_count": null,
      "outputs": []
    },
    {
      "cell_type": "code",
      "source": [
        "plt.figure(figsize=(12,5))\n",
        "plt.title(\"Box plot for charges of women\")\n",
        "sns.boxplot(y=\"smoker\",x=\"charges\",data= df[(df.sex == 0)],orient=\"h\")"
      ],
      "metadata": {
        "id": "I-qglLhtOeBo"
      },
      "execution_count": null,
      "outputs": []
    },
    {
      "cell_type": "code",
      "source": [
        "plt.figure(figsize=(12,5))\n",
        "plt.title(\"Box plot for charges of men\")\n",
        "sns.boxplot(y=\"smoker\",x=\"charges\",data= df[(df.sex == 1)],orient=\"h\")"
      ],
      "metadata": {
        "id": "6q63Y6o1O3Rn"
      },
      "execution_count": null,
      "outputs": []
    },
    {
      "cell_type": "markdown",
      "source": [
        "The assumption is true, that the medical expenses of males is greater than that of females. In addition to that medical expense of smokers is greater than that of non-smokers."
      ],
      "metadata": {
        "id": "ZyByXrRsQMsV"
      }
    },
    {
      "cell_type": "markdown",
      "source": [
        "# Smokers and age distribution"
      ],
      "metadata": {
        "id": "e9neBthFQblu"
      }
    },
    {
      "cell_type": "code",
      "source": [
        "# smokers and age distribution\n",
        "sns.catplot(x=\"smoker\",y=\"age\",kind=\"swarm\",data=df)"
      ],
      "metadata": {
        "id": "Vn0WwDh3QadZ"
      },
      "execution_count": null,
      "outputs": []
    },
    {
      "cell_type": "markdown",
      "source": [
        "From graph, we can see that there signficant number of smokers of age 19. Now I will study the medical expense of smokers of age 19."
      ],
      "metadata": {
        "id": "k02ECv7SQ48X"
      }
    },
    {
      "cell_type": "code",
      "source": [
        "# smokers of age 19\n",
        "\n",
        "plt.figure(figsize=(12,5))\n",
        "plt.title(\"Box plot for  charges of smokers of age 19\")\n",
        "sns.boxplot(y=\"smoker\",x=\"charges\",data=df[(df.age==19)],orient=\"h\")\n",
        "plt.xlabel(\"Medical Expense\")\n",
        "plt.ylabel(\"Smoker\")\n",
        "plt.show()"
      ],
      "metadata": {
        "id": "-iH_HB2jQn5P"
      },
      "execution_count": null,
      "outputs": []
    },
    {
      "cell_type": "markdown",
      "source": [
        "Surprisingly the medical expense of smokers of age 19 is very high in comparison to non-smokers. In non smokers we can see some outliers, which may be due to illness or accidents.\n",
        "It is clear that the medical expense of smokers is higher than that of non-smokers. Now I will plot the charges distribution with respect to patients age of smokers and non-smokers."
      ],
      "metadata": {
        "id": "pEVOjb9gR9EF"
      }
    },
    {
      "cell_type": "code",
      "source": [
        "#Non smokers charge distribution\n",
        "\n",
        "plt.figure(figsize=(7,5))\n",
        "plt.title(\"scatterplot for charges of non smokers\")\n",
        "sns.scatterplot(x=\"age\",y=\"charges\",data=df[(df.smoker== 0 )])\n",
        "plt.xlabel(\"Age\")\n",
        "plt.ylabel(\"Medical Expense\")\n",
        "plt.show()"
      ],
      "metadata": {
        "id": "T_2ULpb4R5H6"
      },
      "execution_count": null,
      "outputs": []
    },
    {
      "cell_type": "markdown",
      "source": [
        "Majority of the points shows that medical expenses increases with age which may be due to the fact that older people are more prone to ilness. But  there are some outliers which shows that there are other  illness or accidents which may increase the medical expense."
      ],
      "metadata": {
        "id": "NANuSbmnUyhV"
      }
    },
    {
      "cell_type": "code",
      "source": [
        "# smokers charge distribution\n",
        "\n",
        "plt.figure(figsize=(7,5))\n",
        "plt.title(\"scatterplot for charges of smokers\")\n",
        "sns.scatterplot(x=\"age\",y=\"charges\",data=df[(df.smoker== 1 )])\n",
        "plt.xlabel(\"Age\")\n",
        "plt.ylabel(\"Medical Expense\")\n",
        "plt.show()"
      ],
      "metadata": {
        "id": "NLNivK5SUrSI"
      },
      "execution_count": null,
      "outputs": []
    },
    {
      "cell_type": "markdown",
      "source": [
        "Here what we can see pecularity in the graph.In the graph there  are two segments, one with high medical expense which may be due to smoking, related illnes and other with low medical expense which may be due to age related illness."
      ],
      "metadata": {
        "id": "QyLOeeb9Vfcx"
      }
    },
    {
      "cell_type": "code",
      "source": [
        "# Age charge distribution\n",
        "\n",
        "sns.lmplot(x=\"age\",y=\"charges\",data=df, hue=\"smoker\")\n",
        "plt.xlabel(\"Age\")\n",
        "plt.ylabel(\"Medical Expense\")\n",
        "plt.show()"
      ],
      "metadata": {
        "id": "RWEfFVuvVcdc"
      },
      "execution_count": null,
      "outputs": []
    },
    {
      "cell_type": "markdown",
      "source": [
        "Now, we clearly understand the variation in  charges with respect to age and smoking habits. The medical expense of smokers is higher than that of non-smokers. In non-smokers, the cost of treatment increases with age which is obvious. But for smokers, the cost of treatment is high even for younger patients, which means the smoking patients are spending upon their smoking related illness as well as age related illness."
      ],
      "metadata": {
        "id": "ke50WuI5WeEs"
      }
    },
    {
      "cell_type": "markdown",
      "source": [
        "# Charges distribution for patients with BMI greater than 30 ie. obese patients."
      ],
      "metadata": {
        "id": "lMPZHFXSXgiP"
      }
    },
    {
      "cell_type": "code",
      "source": [
        "#bmi charges distribution for obese people\n",
        "plt.figure(figsize=(7,5))\n",
        "sns.distplot(df[df.bmi>=30][\"charges\"])\n",
        "plt.title(\"Charges Distribution for Obese People\")\n",
        "plt.xlabel(\"Medical Expense\")\n",
        "plt.show()"
      ],
      "metadata": {
        "id": "Y8JmDQ7RWWIq"
      },
      "execution_count": null,
      "outputs": []
    },
    {
      "cell_type": "markdown",
      "source": [
        "# charges distribution for patients with BMI less than 30"
      ],
      "metadata": {
        "id": "Q-f9lKEuYNeA"
      }
    },
    {
      "cell_type": "code",
      "source": [
        "#bmi charges distribution for non-obese people\n",
        "plt.figure(figsize=(7,5))\n",
        "sns.distplot(df[df.bmi<30][\"charges\"])\n",
        "plt.title(\"Charges Distribution for Non-Obese People\")\n",
        "plt.xlabel(\"Medical Expense\")\n",
        "plt.show()"
      ],
      "metadata": {
        "id": "5MSACo-jYFzC"
      },
      "execution_count": null,
      "outputs": []
    },
    {
      "cell_type": "markdown",
      "source": [
        "Therefore,patients with BMI less than 30 are spending less on medical treatment than those with BMI greater than 30"
      ],
      "metadata": {
        "id": "P_tvYUfWYiuy"
      }
    },
    {
      "cell_type": "markdown",
      "source": [
        "# Build Model  to Predict the Medical Expense"
      ],
      "metadata": {
        "id": "jxPkWYvRYzfY"
      }
    },
    {
      "cell_type": "markdown",
      "source": [
        "## Train Test Split"
      ],
      "metadata": {
        "id": "T5MSINp8Y7bM"
      }
    },
    {
      "cell_type": "code",
      "source": [
        "\n",
        "from sklearn.model_selection import train_test_split\n",
        "x_train, x_test, y_train, y_test = train_test_split(df.drop(\"charges\", axis=1), df[\"charges\"], test_size=0.2, random_state=42)\n"
      ],
      "metadata": {
        "id": "g4fdQWH4YfwZ"
      },
      "execution_count": null,
      "outputs": []
    },
    {
      "cell_type": "markdown",
      "source": [
        "# Model Building\n",
        "\n",
        "## Linear Regression"
      ],
      "metadata": {
        "id": "jwkM4btnaF5G"
      }
    },
    {
      "cell_type": "code",
      "source": [
        "#Linear Regression\n",
        "from sklearn.linear_model import LinearRegression\n",
        "lr = LinearRegression()\n",
        "lr"
      ],
      "metadata": {
        "id": "5LFihwcIaFB4"
      },
      "execution_count": null,
      "outputs": []
    },
    {
      "cell_type": "code",
      "source": [
        "#model training\n",
        "lr.fit(x_train,y_train)\n",
        "#model accuracy\n",
        "lr.score(x_train,y_train)"
      ],
      "metadata": {
        "id": "JD1hYXMyaZ2v"
      },
      "execution_count": null,
      "outputs": []
    },
    {
      "cell_type": "code",
      "source": [
        "#model prediction\n",
        "y_pred = lr.predict(x_test)"
      ],
      "metadata": {
        "id": "b8lpjAQ3bvaA"
      },
      "execution_count": null,
      "outputs": []
    },
    {
      "cell_type": "markdown",
      "source": [
        "# Polynomial Regression"
      ],
      "metadata": {
        "id": "anzFSuAddJgc"
      }
    },
    {
      "cell_type": "code",
      "source": [
        "from sklearn.preprocessing import PolynomialFeatures\n",
        "poly_reg = PolynomialFeatures(degree=2)\n",
        "poly_reg"
      ],
      "metadata": {
        "id": "RThhkdwhdL0P"
      },
      "execution_count": null,
      "outputs": []
    },
    {
      "cell_type": "code",
      "source": [
        "#transforming the features to higher degree\n",
        "x_train_poly = poly_reg.fit_transform(x_train)\n",
        "#splitting the data\n",
        "x_train, x_test, y_train, y_test = train_test_split(x_train_poly, y_train, test_size=0.2, random_state=0)"
      ],
      "metadata": {
        "id": "plWx4YHpdQAx"
      },
      "execution_count": null,
      "outputs": []
    },
    {
      "cell_type": "code",
      "source": [
        "plr = LinearRegression()\n",
        "#model training\n",
        "plr.fit(x_train,y_train)\n",
        "#model accuracy\n",
        "plr.score(x_train,y_train)"
      ],
      "metadata": {
        "id": "BBxPzt36dV3H"
      },
      "execution_count": null,
      "outputs": []
    },
    {
      "cell_type": "code",
      "source": [
        "#model prediction\n",
        "y_pred = plr.predict(x_test)"
      ],
      "metadata": {
        "id": "UCapUQKLdbuY"
      },
      "execution_count": null,
      "outputs": []
    },
    {
      "cell_type": "markdown",
      "source": [
        "# Decision Tree Regressor\n"
      ],
      "metadata": {
        "id": "DFg1kuohdeMc"
      }
    },
    {
      "cell_type": "code",
      "source": [
        "#decision tree regressor\n",
        "from sklearn.tree import DecisionTreeRegressor\n",
        "dtree = DecisionTreeRegressor()\n",
        "dtree"
      ],
      "metadata": {
        "id": "7_9DyJ1ZdhFS"
      },
      "execution_count": null,
      "outputs": []
    },
    {
      "cell_type": "code",
      "source": [
        "#model training\n",
        "dtree.fit(x_train,y_train)\n",
        "#model accuracy\n",
        "dtree.score(x_train,y_train)"
      ],
      "metadata": {
        "id": "o-uvwwDTdh3s"
      },
      "execution_count": null,
      "outputs": []
    },
    {
      "cell_type": "code",
      "source": [
        "#model prediction\n",
        "dtree_pred = dtree.predict(x_test)"
      ],
      "metadata": {
        "id": "68SIjxV-dkx2"
      },
      "execution_count": null,
      "outputs": []
    },
    {
      "cell_type": "markdown",
      "source": [
        "# Random Forest Regressor"
      ],
      "metadata": {
        "id": "r-wXWHiDdpue"
      }
    },
    {
      "cell_type": "code",
      "source": [
        "#random forest regressor\n",
        "from sklearn.ensemble import RandomForestRegressor\n",
        "rf = RandomForestRegressor(n_estimators=100)\n",
        "rf"
      ],
      "metadata": {
        "id": "6Kym1ySDdna0"
      },
      "execution_count": null,
      "outputs": []
    },
    {
      "cell_type": "code",
      "source": [
        "#model training\n",
        "rf.fit(x_train,y_train)\n",
        "#model accuracy\n",
        "rf.score(x_train,y_train)"
      ],
      "metadata": {
        "id": "Zva3pnVYdr9T"
      },
      "execution_count": null,
      "outputs": []
    },
    {
      "cell_type": "code",
      "source": [
        "#model prediction\n",
        "rf_pred = rf.predict(x_test)"
      ],
      "metadata": {
        "id": "a2cBdo0kdwHp"
      },
      "execution_count": null,
      "outputs": []
    },
    {
      "cell_type": "markdown",
      "source": [
        "# Model Evaluation"
      ],
      "metadata": {
        "id": "UrxczeRed06G"
      }
    },
    {
      "cell_type": "code",
      "source": [
        "from sklearn.metrics import mean_squared_error,mean_absolute_error,r2_score"
      ],
      "metadata": {
        "id": "pH4ACpMjd0N8"
      },
      "execution_count": null,
      "outputs": []
    },
    {
      "cell_type": "markdown",
      "source": [
        "# Linear Regression"
      ],
      "metadata": {
        "id": "y27u9MlJd-Mr"
      }
    },
    {
      "cell_type": "code",
      "source": [
        "#distribution of actual and predicted values\n",
        "plt.figure(figsize=(7,5))\n",
        "ax1 = sns.distplot(y_test,hist=False,color='r',label='Actual Value')\n",
        "sns.distplot(y_pred,hist=False,color='b',label='Predicted Value',ax=ax1)\n",
        "plt.title('Actual vs Predicted Values for Linear Regression')\n",
        "plt.xlabel('Medical Expense')\n",
        "plt.show()"
      ],
      "metadata": {
        "id": "CUJ-3Umsd_1i"
      },
      "execution_count": null,
      "outputs": []
    },
    {
      "cell_type": "code",
      "source": [
        "\n",
        "print('MAE:', mean_absolute_error(y_test, y_pred))\n",
        "print('MSE:', mean_squared_error(y_test, y_pred))\n",
        "print('RMSE:', np.sqrt(mean_squared_error(y_test, y_pred)))\n",
        "print('R2 Score:', r2_score(y_test, y_pred))"
      ],
      "metadata": {
        "id": "BngYwegGeAZf"
      },
      "execution_count": null,
      "outputs": []
    },
    {
      "cell_type": "markdown",
      "source": [
        "# Polynomial Regressor"
      ],
      "metadata": {
        "id": "ym5O3Vw2eP_c"
      }
    },
    {
      "cell_type": "code",
      "source": [
        "#acutal vs predicted values for polynomial regression\n",
        "plt.figure(figsize=(7,5))\n",
        "ax1 = sns.distplot(y_test,hist=False,color='r',label='Actual Value')\n",
        "sns.distplot(y_pred,hist=False,color='b',label='Predicted Value',ax=ax1)\n",
        "plt.title('Actual vs Predicted Values for Polynomial Regression')\n",
        "plt.xlabel('Medical Expense')\n",
        "plt.show()"
      ],
      "metadata": {
        "id": "iuuchLlbeLum"
      },
      "execution_count": null,
      "outputs": []
    },
    {
      "cell_type": "code",
      "source": [
        "print('MAE:', mean_absolute_error(y_test, y_pred))\n",
        "print('MSE:', mean_squared_error(y_test, y_pred))\n",
        "print('RMSE:', np.sqrt(mean_squared_error(y_test, y_pred)))\n",
        "print('R2 Score:', r2_score(y_test, y_pred))"
      ],
      "metadata": {
        "id": "bmqowQWwePcj"
      },
      "execution_count": null,
      "outputs": []
    },
    {
      "cell_type": "markdown",
      "source": [
        "Decision Tree Regressor"
      ],
      "metadata": {
        "id": "ds0LHOG-ewVr"
      }
    },
    {
      "cell_type": "code",
      "source": [
        "#distribution plot of actual and predicted values\n",
        "plt.figure(figsize=(7,5))\n",
        "ax = sns.distplot(y_test, hist=False, color=\"r\", label=\"Actual Value\")\n",
        "sns.distplot(dtree_pred, hist=False, color=\"b\", label=\"Fitted Values\" , ax=ax)\n",
        "plt.title('Actual vs Fitted Values for Decision Tree Regression')\n",
        "plt.xlabel('Medical Expense')\n",
        "plt.ylabel('Distribution')\n",
        "plt.show()"
      ],
      "metadata": {
        "id": "yuNO9L2CeYxB"
      },
      "execution_count": null,
      "outputs": []
    },
    {
      "cell_type": "code",
      "source": [
        "print('MAE:', mean_absolute_error(y_test, dtree_pred))\n",
        "print('MSE:', mean_squared_error(y_test, dtree_pred))\n",
        "print('RMSE:', np.sqrt(mean_squared_error(y_test, dtree_pred)))\n",
        "print('Accuracy:', dtree.score(x_test,y_test))"
      ],
      "metadata": {
        "id": "qeY6pe1VezvF"
      },
      "execution_count": null,
      "outputs": []
    },
    {
      "cell_type": "markdown",
      "source": [
        "# Random Forest Regressor"
      ],
      "metadata": {
        "id": "dF_YcuetfJhQ"
      }
    },
    {
      "cell_type": "code",
      "source": [
        "#distribution plot of actual and predicted values\n",
        "plt.figure(figsize=(7,5))\n",
        "ax = sns.distplot(y_test, hist=False, color=\"r\", label=\"Actual Value\")\n",
        "sns.distplot(rf_pred, hist=False, color=\"b\", label=\"Fitted Values\" , ax=ax)\n",
        "plt.title('Actual vs Fitted Values for Random Forest Regressor')\n",
        "plt.xlabel('Medical Expense')\n",
        "plt.ylabel('Distribution')\n",
        "plt.show()\n"
      ],
      "metadata": {
        "id": "oAS-a7uxe3T9"
      },
      "execution_count": null,
      "outputs": []
    },
    {
      "cell_type": "code",
      "source": [
        "print('MAE:', mean_absolute_error(y_test, rf_pred))\n",
        "print('MSE:', mean_squared_error(y_test, rf_pred))\n",
        "print('RMSE:', np.sqrt(mean_squared_error(y_test, rf_pred)))\n",
        "print('Accuracy:', rf.score(x_test,y_test))"
      ],
      "metadata": {
        "id": "DsGHnuxZfM0x"
      },
      "execution_count": null,
      "outputs": []
    },
    {
      "cell_type": "markdown",
      "source": [
        "# Conclusion\n",
        "\n",
        "### From the above models, we can see that Decision Tree Regressor and Random Forest Regressor are giving the best results. But, Random Forest Regressor is giving the best results with the least RMSE value. Therefore, I will use Random Forest Regressor to predict the medical expense of patients.\n",
        "\n",
        "### Moreover, the medical expense of smokers is higher than that of non-smokers. The medical expense of patients with BMI greater than 30 is higher than that of patients with BMI less than 30. The medical expense of older patients is higher than that of younger patients.\n",
        "\n",
        "### Thus, from the overall analysis, we can conclude that the medical expense of patients depends on their age, BMI, smoking habits."
      ],
      "metadata": {
        "id": "nvTINmRVfUJ-"
      }
    }
  ]
}